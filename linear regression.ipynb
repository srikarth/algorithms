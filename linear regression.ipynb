{
 "cells": [
  {
   "cell_type": "code",
   "execution_count": 2,
   "metadata": {},
   "outputs": [
    {
     "data": {
      "text/plain": [
       "dict_keys(['data', 'target', 'feature_names', 'DESCR'])"
      ]
     },
     "execution_count": 2,
     "metadata": {},
     "output_type": "execute_result"
    }
   ],
   "source": [
    "import numpy as np\n",
    "import pandas as pd\n",
    "import scipy.stats as stats\n",
    "import matplotlib.pyplot as plt\n",
    "import sklearn\n",
    "\n",
    "%matplotlib inline\n",
    "\n",
    "from sklearn.datasets import load_boston\n",
    "boston = load_boston()\n",
    "\n",
    "boston.keys()"
   ]
  },
  {
   "cell_type": "code",
   "execution_count": 3,
   "metadata": {},
   "outputs": [
    {
     "data": {
      "text/plain": [
       "(506, 13)"
      ]
     },
     "execution_count": 3,
     "metadata": {},
     "output_type": "execute_result"
    }
   ],
   "source": [
    "boston.data.shape"
   ]
  },
  {
   "cell_type": "code",
   "execution_count": 4,
   "metadata": {},
   "outputs": [
    {
     "name": "stdout",
     "output_type": "stream",
     "text": [
      "['CRIM' 'ZN' 'INDUS' 'CHAS' 'NOX' 'RM' 'AGE' 'DIS' 'RAD' 'TAX' 'PTRATIO'\n",
      " 'B' 'LSTAT']\n"
     ]
    }
   ],
   "source": [
    "print(boston.feature_names)"
   ]
  },
  {
   "cell_type": "code",
   "execution_count": 5,
   "metadata": {},
   "outputs": [
    {
     "name": "stdout",
     "output_type": "stream",
     "text": [
      "Boston House Prices dataset\n",
      "===========================\n",
      "\n",
      "Notes\n",
      "------\n",
      "Data Set Characteristics:  \n",
      "\n",
      "    :Number of Instances: 506 \n",
      "\n",
      "    :Number of Attributes: 13 numeric/categorical predictive\n",
      "    \n",
      "    :Median Value (attribute 14) is usually the target\n",
      "\n",
      "    :Attribute Information (in order):\n",
      "        - CRIM     per capita crime rate by town\n",
      "        - ZN       proportion of residential land zoned for lots over 25,000 sq.ft.\n",
      "        - INDUS    proportion of non-retail business acres per town\n",
      "        - CHAS     Charles River dummy variable (= 1 if tract bounds river; 0 otherwise)\n",
      "        - NOX      nitric oxides concentration (parts per 10 million)\n",
      "        - RM       average number of rooms per dwelling\n",
      "        - AGE      proportion of owner-occupied units built prior to 1940\n",
      "        - DIS      weighted distances to five Boston employment centres\n",
      "        - RAD      index of accessibility to radial highways\n",
      "        - TAX      full-value property-tax rate per $10,000\n",
      "        - PTRATIO  pupil-teacher ratio by town\n",
      "        - B        1000(Bk - 0.63)^2 where Bk is the proportion of blacks by town\n",
      "        - LSTAT    % lower status of the population\n",
      "        - MEDV     Median value of owner-occupied homes in $1000's\n",
      "\n",
      "    :Missing Attribute Values: None\n",
      "\n",
      "    :Creator: Harrison, D. and Rubinfeld, D.L.\n",
      "\n",
      "This is a copy of UCI ML housing dataset.\n",
      "http://archive.ics.uci.edu/ml/datasets/Housing\n",
      "\n",
      "\n",
      "This dataset was taken from the StatLib library which is maintained at Carnegie Mellon University.\n",
      "\n",
      "The Boston house-price data of Harrison, D. and Rubinfeld, D.L. 'Hedonic\n",
      "prices and the demand for clean air', J. Environ. Economics & Management,\n",
      "vol.5, 81-102, 1978.   Used in Belsley, Kuh & Welsch, 'Regression diagnostics\n",
      "...', Wiley, 1980.   N.B. Various transformations are used in the table on\n",
      "pages 244-261 of the latter.\n",
      "\n",
      "The Boston house-price data has been used in many machine learning papers that address regression\n",
      "problems.   \n",
      "     \n",
      "**References**\n",
      "\n",
      "   - Belsley, Kuh & Welsch, 'Regression diagnostics: Identifying Influential Data and Sources of Collinearity', Wiley, 1980. 244-261.\n",
      "   - Quinlan,R. (1993). Combining Instance-Based and Model-Based Learning. In Proceedings on the Tenth International Conference of Machine Learning, 236-243, University of Massachusetts, Amherst. Morgan Kaufmann.\n",
      "   - many more! (see http://archive.ics.uci.edu/ml/datasets/Housing)\n",
      "\n"
     ]
    }
   ],
   "source": [
    "print(boston.DESCR)"
   ]
  },
  {
   "cell_type": "code",
   "execution_count": 6,
   "metadata": {
    "collapsed": true
   },
   "outputs": [],
   "source": [
    " bos = pd.DataFrame(boston.data)"
   ]
  },
  {
   "cell_type": "code",
   "execution_count": 7,
   "metadata": {
    "collapsed": true
   },
   "outputs": [],
   "source": [
    "bos.columns = boston.feature_names"
   ]
  },
  {
   "cell_type": "code",
   "execution_count": 8,
   "metadata": {},
   "outputs": [
    {
     "data": {
      "text/html": [
       "<div>\n",
       "<style>\n",
       "    .dataframe thead tr:only-child th {\n",
       "        text-align: right;\n",
       "    }\n",
       "\n",
       "    .dataframe thead th {\n",
       "        text-align: left;\n",
       "    }\n",
       "\n",
       "    .dataframe tbody tr th {\n",
       "        vertical-align: top;\n",
       "    }\n",
       "</style>\n",
       "<table border=\"1\" class=\"dataframe\">\n",
       "  <thead>\n",
       "    <tr style=\"text-align: right;\">\n",
       "      <th></th>\n",
       "      <th>CRIM</th>\n",
       "      <th>ZN</th>\n",
       "      <th>INDUS</th>\n",
       "      <th>CHAS</th>\n",
       "      <th>NOX</th>\n",
       "      <th>RM</th>\n",
       "      <th>AGE</th>\n",
       "      <th>DIS</th>\n",
       "      <th>RAD</th>\n",
       "      <th>TAX</th>\n",
       "      <th>PTRATIO</th>\n",
       "      <th>B</th>\n",
       "      <th>LSTAT</th>\n",
       "    </tr>\n",
       "  </thead>\n",
       "  <tbody>\n",
       "    <tr>\n",
       "      <th>0</th>\n",
       "      <td>0.00632</td>\n",
       "      <td>18.0</td>\n",
       "      <td>2.31</td>\n",
       "      <td>0.0</td>\n",
       "      <td>0.538</td>\n",
       "      <td>6.575</td>\n",
       "      <td>65.2</td>\n",
       "      <td>4.0900</td>\n",
       "      <td>1.0</td>\n",
       "      <td>296.0</td>\n",
       "      <td>15.3</td>\n",
       "      <td>396.90</td>\n",
       "      <td>4.98</td>\n",
       "    </tr>\n",
       "    <tr>\n",
       "      <th>1</th>\n",
       "      <td>0.02731</td>\n",
       "      <td>0.0</td>\n",
       "      <td>7.07</td>\n",
       "      <td>0.0</td>\n",
       "      <td>0.469</td>\n",
       "      <td>6.421</td>\n",
       "      <td>78.9</td>\n",
       "      <td>4.9671</td>\n",
       "      <td>2.0</td>\n",
       "      <td>242.0</td>\n",
       "      <td>17.8</td>\n",
       "      <td>396.90</td>\n",
       "      <td>9.14</td>\n",
       "    </tr>\n",
       "    <tr>\n",
       "      <th>2</th>\n",
       "      <td>0.02729</td>\n",
       "      <td>0.0</td>\n",
       "      <td>7.07</td>\n",
       "      <td>0.0</td>\n",
       "      <td>0.469</td>\n",
       "      <td>7.185</td>\n",
       "      <td>61.1</td>\n",
       "      <td>4.9671</td>\n",
       "      <td>2.0</td>\n",
       "      <td>242.0</td>\n",
       "      <td>17.8</td>\n",
       "      <td>392.83</td>\n",
       "      <td>4.03</td>\n",
       "    </tr>\n",
       "    <tr>\n",
       "      <th>3</th>\n",
       "      <td>0.03237</td>\n",
       "      <td>0.0</td>\n",
       "      <td>2.18</td>\n",
       "      <td>0.0</td>\n",
       "      <td>0.458</td>\n",
       "      <td>6.998</td>\n",
       "      <td>45.8</td>\n",
       "      <td>6.0622</td>\n",
       "      <td>3.0</td>\n",
       "      <td>222.0</td>\n",
       "      <td>18.7</td>\n",
       "      <td>394.63</td>\n",
       "      <td>2.94</td>\n",
       "    </tr>\n",
       "    <tr>\n",
       "      <th>4</th>\n",
       "      <td>0.06905</td>\n",
       "      <td>0.0</td>\n",
       "      <td>2.18</td>\n",
       "      <td>0.0</td>\n",
       "      <td>0.458</td>\n",
       "      <td>7.147</td>\n",
       "      <td>54.2</td>\n",
       "      <td>6.0622</td>\n",
       "      <td>3.0</td>\n",
       "      <td>222.0</td>\n",
       "      <td>18.7</td>\n",
       "      <td>396.90</td>\n",
       "      <td>5.33</td>\n",
       "    </tr>\n",
       "  </tbody>\n",
       "</table>\n",
       "</div>"
      ],
      "text/plain": [
       "      CRIM    ZN  INDUS  CHAS    NOX     RM   AGE     DIS  RAD    TAX  \\\n",
       "0  0.00632  18.0   2.31   0.0  0.538  6.575  65.2  4.0900  1.0  296.0   \n",
       "1  0.02731   0.0   7.07   0.0  0.469  6.421  78.9  4.9671  2.0  242.0   \n",
       "2  0.02729   0.0   7.07   0.0  0.469  7.185  61.1  4.9671  2.0  242.0   \n",
       "3  0.03237   0.0   2.18   0.0  0.458  6.998  45.8  6.0622  3.0  222.0   \n",
       "4  0.06905   0.0   2.18   0.0  0.458  7.147  54.2  6.0622  3.0  222.0   \n",
       "\n",
       "   PTRATIO       B  LSTAT  \n",
       "0     15.3  396.90   4.98  \n",
       "1     17.8  396.90   9.14  \n",
       "2     17.8  392.83   4.03  \n",
       "3     18.7  394.63   2.94  \n",
       "4     18.7  396.90   5.33  "
      ]
     },
     "execution_count": 8,
     "metadata": {},
     "output_type": "execute_result"
    }
   ],
   "source": [
    "bos.head()"
   ]
  },
  {
   "cell_type": "code",
   "execution_count": 10,
   "metadata": {},
   "outputs": [
    {
     "name": "stdout",
     "output_type": "stream",
     "text": [
      "Boston House Prices dataset\n",
      "===========================\n",
      "\n",
      "Notes\n",
      "------\n",
      "Data Set Characteristics:  \n",
      "\n",
      "    :Number of Instances: 506 \n",
      "\n",
      "    :Number of Attributes: 13 numeric/categorical predictive\n",
      "    \n",
      "    :Median Value (attribute 14) is usually the target\n",
      "\n",
      "    :Attribute Information (in order):\n",
      "        - CRIM     per capita crime rate by town\n",
      "        - ZN       proportion of residential land zoned for lots over 25,000 sq.ft.\n",
      "        - INDUS    proportion of non-retail business acres per town\n",
      "        - CHAS     Charles River dummy variable (= 1 if tract bounds river; 0 otherwise)\n",
      "        - NOX      nitric oxides concentration (parts per 10 million)\n",
      "        - RM       average number of rooms per dwelling\n",
      "        - AGE      proportion of owner-occupied units built prior to 1940\n",
      "        - DIS      weighted distances to five Boston employment centres\n",
      "        - RAD      index of accessibility to radial highways\n",
      "        - TAX      full-value property-tax rate per $10,000\n",
      "        - PTRATIO  pupil-teacher ratio by town\n",
      "        - B        1000(Bk - 0.63)^2 where Bk is the proportion of blacks by town\n",
      "        - LSTAT    % lower status of the population\n",
      "        - MEDV     Median value of owner-occupied homes in $1000's\n",
      "\n",
      "    :Missing Attribute Values: None\n",
      "\n",
      "    :Creator: Harrison, D. and Rubinfeld, D.L.\n",
      "\n",
      "This is a copy of UCI ML housing dataset.\n",
      "http://archive.ics.uci.edu/ml/datasets/Housing\n",
      "\n",
      "\n",
      "This dataset was taken from the StatLib library which is maintained at Carnegie Mellon University.\n",
      "\n",
      "The Boston house-price data of Harrison, D. and Rubinfeld, D.L. 'Hedonic\n",
      "prices and the demand for clean air', J. Environ. Economics & Management,\n",
      "vol.5, 81-102, 1978.   Used in Belsley, Kuh & Welsch, 'Regression diagnostics\n",
      "...', Wiley, 1980.   N.B. Various transformations are used in the table on\n",
      "pages 244-261 of the latter.\n",
      "\n",
      "The Boston house-price data has been used in many machine learning papers that address regression\n",
      "problems.   \n",
      "     \n",
      "**References**\n",
      "\n",
      "   - Belsley, Kuh & Welsch, 'Regression diagnostics: Identifying Influential Data and Sources of Collinearity', Wiley, 1980. 244-261.\n",
      "   - Quinlan,R. (1993). Combining Instance-Based and Model-Based Learning. In Proceedings on the Tenth International Conference of Machine Learning, 236-243, University of Massachusetts, Amherst. Morgan Kaufmann.\n",
      "   - many more! (see http://archive.ics.uci.edu/ml/datasets/Housing)\n",
      "\n"
     ]
    }
   ],
   "source": [
    "print(boston.DESCR)"
   ]
  },
  {
   "cell_type": "code",
   "execution_count": 27,
   "metadata": {},
   "outputs": [],
   "source": [
    "bos['PRICE']=boston.target"
   ]
  },
  {
   "cell_type": "code",
   "execution_count": 28,
   "metadata": {},
   "outputs": [],
   "source": [
    "bos.head()\n",
    "from sklearn.linear_model import LinearRegression\n",
    "X=bos.drop('PRICE',axis=1)\n",
    "lm = LinearRegression()"
   ]
  },
  {
   "cell_type": "code",
   "execution_count": 30,
   "metadata": {},
   "outputs": [
    {
     "name": "stdout",
     "output_type": "stream",
     "text": [
      "(339, 13)\n",
      "(167, 13)\n",
      "(339,)\n",
      "(167,)\n"
     ]
    }
   ],
   "source": [
    "import sklearn.cross_validation\n",
    "X_train, X_test , Y_train , Y_test =sklearn.cross_validation.train_test_split(X, boston.target, test_size=0.33,random_state=5)\n",
    "print(X_train.shape)\n",
    "print(X_test.shape)\n",
    "print(Y_train.shape)\n",
    "print(Y_test.shape)"
   ]
  },
  {
   "cell_type": "code",
   "execution_count": 34,
   "metadata": {},
   "outputs": [],
   "source": [
    "lm.fit(X_train, Y_train)\n",
    "pred_train = lm.predict(X_train)\n",
    "pred_test =lm.predict(X_test)"
   ]
  },
  {
   "cell_type": "code",
   "execution_count": 36,
   "metadata": {},
   "outputs": [
    {
     "name": "stdout",
     "output_type": "stream",
     "text": [
      "Coefficient: \n",
      " [ -1.56381297e-01   3.85490972e-02  -2.50629921e-02   7.86439684e-01\n",
      "  -1.29469121e+01   4.00268857e+00  -1.16023395e-02  -1.36828811e+00\n",
      "   3.41756915e-01  -1.35148823e-02  -9.88866034e-01   1.20588215e-02\n",
      "  -4.72644280e-01]\n",
      "Intercept: \n",
      " 32.8589326341\n"
     ]
    }
   ],
   "source": [
    "print('Coefficient: \\n', lm.coef_)\n",
    "print('Intercept: \\n', lm.intercept_)"
   ]
  },
  {
   "cell_type": "code",
   "execution_count": 37,
   "metadata": {},
   "outputs": [
    {
     "name": "stdout",
     "output_type": "stream",
     "text": [
      "[ 37.46723562  31.39154701  27.1201962    6.46843347  33.62966737\n",
      "   5.67067989  27.03946671  29.92704748  26.35661334  22.45246021\n",
      "  32.20504441  21.78641653  23.41138441  33.60894362  28.28619511\n",
      "  15.13859055   0.30087325  18.71850376  14.4706712   11.10823598\n",
      "   2.69494197  19.21693734  38.41159345  24.36936442  31.61493439\n",
      "  11.42210397  24.92862188  23.31178043  22.7764079   20.65081211\n",
      "  16.035198     7.07978633  17.65509209  22.81470561  29.21943405\n",
      "  18.61354566  28.37701843   8.80516873  41.65140459  34.02910176\n",
      "  20.1868926    3.95600857  29.69124564  12.18081256  27.19403498\n",
      "  30.63699231  -6.24952457  19.9462404   21.55123979  13.36478173\n",
      "  20.39068171  19.87353324  23.57656877  13.40141285  17.66457201\n",
      "  24.77424747  35.31476509  15.48318159  28.50764575  21.72575404\n",
      "  20.58142839  26.08460856  14.51816968  32.37494056  20.80917392\n",
      "  12.18932524  19.45551285  25.23390429  21.77302317  21.30227044\n",
      "  20.58222113  26.74635016  17.53006166  18.7191946   19.03026793\n",
      "  25.76553031  21.8757557   15.70891861  35.12411848  18.04488652\n",
      "  22.43612549  39.4000555   22.30677551  14.9738331   25.29300631\n",
      "  17.3200635   18.58435124  10.01693133  19.62408198  17.24471407\n",
      "  36.26263664  17.55591517  21.10848471  19.08435242  24.72519887\n",
      "  28.0878012   12.25474746  22.40592558  21.00483315  13.51073355\n",
      "  23.09169468  21.48906423  14.14959117  42.75677509   2.01088993\n",
      "  21.9914102   18.32505073  22.59335404  28.93052931  18.49024451\n",
      "  27.61537531  24.65547955  20.32508475  32.66905896  19.72975821  12.8254\n",
      "  22.68957624  18.2350211   19.40432885  16.19144346  21.77804736\n",
      "  35.50387944  22.24038654  20.20025029  24.54270446  25.29795497\n",
      "  20.50220669  23.0150761   23.38446711  40.91809141  37.84906745\n",
      "  27.54024335  12.53470565  15.90588084  18.25352202  21.62847325\n",
      "  15.77967465   5.62636735  24.00046271  30.37118947  23.01126707\n",
      "  18.29104509  16.194709    21.60846672  34.71665914  23.40506116\n",
      "  30.13747943  18.0951727   22.16844264  29.0922559   13.36146671\n",
      "  31.8608905   13.1643678   13.91761543  26.52314446  31.39481197\n",
      "  10.62913801  24.6869924   28.95650935  32.31758322  15.87113569\n",
      "  29.94335724   9.71836876  34.70520017  25.70410195  20.15430904\n",
      "  15.3946584 ]\n"
     ]
    }
   ],
   "source": [
    "print(pred_test)"
   ]
  },
  {
   "cell_type": "code",
   "execution_count": 38,
   "metadata": {},
   "outputs": [
    {
     "name": "stdout",
     "output_type": "stream",
     "text": [
      "[ 13.16072876  30.41654502  13.56155988  24.31597165  20.60168017\n",
      "  13.46387418  21.76426391  14.29672518  18.67601405  22.10577161\n",
      "  33.44477729  22.2740404   16.75294142  30.87966613  38.66148617\n",
      "  26.57778954  25.99126956  15.35860394  15.67520649  35.95582476\n",
      "  22.92948499  33.62881167  25.25458364  20.8096454   16.91681516\n",
      "  23.39903742  19.61377584  30.37720465  16.45581802  25.54233718\n",
      "  26.6049999   23.78419935  22.54074716  32.88679588  18.80357047\n",
      "  30.8730697   28.74500977  13.33362726  32.85170742  27.37305898\n",
      "  19.60104079  35.61043567  14.57285385  24.87494438  28.32207238\n",
      "  22.36707385  18.64003623  20.92428707  25.08035664  19.71238517\n",
      "  32.14571068  23.72852497  19.35132712   7.08362216   5.4553063\n",
      "  22.25378614  19.79507316  20.53115261  21.34785006  17.67547237\n",
      "  31.13739933  37.74282622  20.08836416  13.18689564  27.1041762\n",
      "  16.64218913  25.03437517  18.4183762   24.02139217  14.97442563\n",
      "  20.14105861  13.50147995  21.90044974  27.55999853  22.97271264\n",
      "  16.9508361   15.35956584  21.23693343  38.88446938  19.87477846\n",
      "  15.0120825   14.71203086  24.6047804   17.55917647  21.33595967\n",
      "  25.43394858  16.95691842  28.34746792  17.57041716  18.48943963\n",
      "  22.3956458   30.85417421  25.38704921  28.62367984  25.97586534\n",
      "  32.62567358  24.872054    23.38058809  21.85283445  36.47324852\n",
      "  17.86444638  30.50276571  28.39834603  13.85218165  35.27658451\n",
      "  21.98916482  15.24055186  15.07747174  13.63460112  30.2664051\n",
      "  13.85227418  17.6460883   29.10749642  31.65645563  28.75905364\n",
      "  20.36887207  11.67762139  27.77653132  24.62085176  21.1324469\n",
      "  27.91933125  25.48500859  25.58150215  23.37059609  18.30471123\n",
      "  17.24125818  12.51166875  19.80739296  24.99817615  13.59988504\n",
      "  33.94718506  35.58983634  18.2333315   11.00040775  32.91165691\n",
      "  25.58044723  20.80157224  25.80469954  24.83110222  21.40740396\n",
      "  20.39661616  24.64610038  36.07423684  22.27211572  20.97735694\n",
      "  19.30383202  21.50251842  22.96438728  33.04745739  14.95233119\n",
      "  18.33304951  15.84694904  31.49113461  43.98998129  21.71367115\n",
      "  24.58701613   8.69335907  32.19670731  19.2868877   18.81779295\n",
      "  24.24678077  23.55002123   4.90884198  17.6378253   12.17904421\n",
      "  13.27024075  14.37937073  20.71336509  37.05301638  30.50222596\n",
      "  20.4722939   10.94917453  39.86009236  21.7974113   15.25947165\n",
      "  19.31642099  18.30602141  32.96710826  31.41628749  22.45329272\n",
      "  17.25520757  23.14709729  25.31117487  18.71501675  27.44023266\n",
      "  12.46591402  32.13239145  24.05004243  17.01273012  25.9326909\n",
      "  22.39115211  27.84915364  26.03224958  35.55127598  27.70975738\n",
      "  19.18840859  15.96579698  19.75402911  28.25565545  25.65124026\n",
      "  28.5441204   31.26293174  19.57862849  13.6326994   29.81769792\n",
      "  24.54153259  29.12282995  33.55639923   8.86697027  23.76068044\n",
      "  24.09045712  17.9589772   39.89283112  21.43720376  24.94171953\n",
      "  20.808222    25.2046569   32.24582939  18.30689909  25.21588397\n",
      "  34.84468604  37.36560147   6.14539599  17.68997924  24.28045732\n",
      "  14.29059368  28.00374444  36.34208316  23.88424218  13.2613462\n",
      "  12.32885247  18.33650111   2.85334997  22.7522085   12.27664238\n",
      "  31.16428027   5.61792118  12.8199874   22.99290937  23.3537858\n",
      "   9.03724203  17.74052696  38.18232497  25.51725754   0.77713384\n",
      "  16.40574912  13.41747903  33.21423302  29.01450481  14.28782913\n",
      "  22.56854542  33.05873306  23.39542816  28.92122247  18.98491733\n",
      "  19.08957837  26.21834717  20.79202125  17.73379118  30.56847222\n",
      "  28.21430186  27.16228795   9.77313616  20.86267486  20.99688547\n",
      "  27.28794893   5.59853118  30.64508889  10.56809836  19.38816992\n",
      "  41.52122528  30.98543628  12.55347934  19.48287983  35.92945757\n",
      "  18.11129518  16.71411312  13.69857597  29.89529134  33.96762463\n",
      "   9.82146736  18.12529519  24.38154702  25.33177069  36.87484844\n",
      "  27.06434542  21.10441461  33.07955038  19.40685179  24.22624242\n",
      "  20.71219829   6.54969204  37.09405783  25.30252476  25.45465363\n",
      "  20.11399486   9.97398534  19.97114468  20.31415336   8.19622175\n",
      "  21.10813529  28.63791011  18.33069941  18.69027974  20.3448663\n",
      "  23.72970908  15.94380663  21.77346534  22.51038477  16.480662\n",
      "  11.60949679  17.57028997  30.09454165  41.84529857  23.04280422\n",
      "  23.22416098  14.59951302  28.39348053   8.1333838   20.60142565\n",
      "  11.48923391  42.99988353  19.9942751   21.71362764  27.99525451\n",
      "  20.58808655  15.49363356  17.92137525  33.29107817  36.15926     12.37412623\n",
      "  24.14392606  11.50588648  20.20062643  19.54312505  34.43365194\n",
      "  17.75001291  23.7869396   16.58064779]\n"
     ]
    }
   ],
   "source": [
    "print(pred_train)"
   ]
  },
  {
   "cell_type": "code",
   "execution_count": null,
   "metadata": {
    "collapsed": true
   },
   "outputs": [],
   "source": [
    "rmse"
   ]
  }
 ],
 "metadata": {
  "kernelspec": {
   "display_name": "Python 3",
   "language": "python",
   "name": "python3"
  },
  "language_info": {
   "codemirror_mode": {
    "name": "ipython",
    "version": 3
   },
   "file_extension": ".py",
   "mimetype": "text/x-python",
   "name": "python",
   "nbconvert_exporter": "python",
   "pygments_lexer": "ipython3",
   "version": "3.6.2"
  }
 },
 "nbformat": 4,
 "nbformat_minor": 2
}
